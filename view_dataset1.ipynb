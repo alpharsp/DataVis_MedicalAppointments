{
 "cells": [
  {
   "cell_type": "markdown",
   "metadata": {},
   "source": [
    "# MEDICAL APPOINTMENT / SHOWING OR NOT SHOWING UP"
   ]
  },
  {
   "cell_type": "markdown",
   "metadata": {},
   "source": [
    "This dataset identifies patients that make appointments and tells us if they showed up or not at the end. 14 features in total that can help us find the pattern of why people don't show up when making appointments:<br />\n",
    "<div display='flex'>\n",
    "    -PatientId (flat) 39k to 1e15 aprox<br />\n",
    "    -AppointmentID (float) 5e6 to 6e6 aprox<br />\n",
    "    -Gender (String) F/M<br />\n",
    "    -ScheduledDay (String) Format=YYYY-MM-DDTHH:MM:SSZ where the following chars are constant: [T,:,Z]<br />\n",
    "    -AppointmentDay (String) Format=YYYY-MM-DDTHH:MM:SSZ where the following chars are constant: [T,:,Z]<br />\n",
    "    -Age (float) -1 to 115<br />\n",
    "    -Neighbourhood (String) Name of different Neightborhouds<br />\n",
    "    -Scholarship (float) 0 to 1<br />\n",
    "    -Hipertension (float) 0 to 1<br />\n",
    "    -Diabetes (float) 0 to 1<br />\n",
    "    -Alcoholism (float) 0 to 1<br />\n",
    "    -Handcap (float) 0 to 1<br />\n",
    "    -SMS_received (float) 0 to 1<br />\n",
    "    -No-show (String) No/Yes<p />\n",
    "Source: https://www.kaggle.com/joniarroba/noshowappointments<p />\n",
    "\n",
    "### For proper analysis, non label data needs to be transformed into numerical values:\n",
    "The following data is already numerical and progresive so no conversion is needed<br />\n",
    "[PatientId, AppointmentID, Age, Scholarship, Hiperrension, Diabetes, Alcoholism, Handcap, SMS_received]<br />\n",
    "The following data is not numerical but can be converted into progresive numerical data:<br />\n",
    "[ScheduledDay, AppointmentDay]<br />\n",
    "The following data is not numerical but can be converted into discrete numerical data:<br />\n",
    "[Gender,No-show]<br />\n",
    "The following data is not numerical but cannot be converted in progresive numerical data due to lack of information:<br />\n",
    "[Neighbourhood] I don't see how neighbourhood contributes to any classification whithout being able to properly rank the neighbourhoods by another variable such as averache income, average travel time to hospital etc...\n",
    "Since i dont have a basis for this ranking but makes sense that neighbourhood has weight here, i will convert into integer valuesbased on an alphabetic orther.\n"
   ]
  },
  {
   "cell_type": "markdown",
   "metadata": {},
   "source": [
    "## Initial Data Analysis"
   ]
  },
  {
   "cell_type": "code",
   "execution_count": 1,
   "metadata": {
    "collapsed": true
   },
   "outputs": [],
   "source": [
    "groupNames=['Gender','ScheduledDay','AppointmentDay','Neighbourhood','No-Show']"
   ]
  },
  {
   "cell_type": "code",
   "execution_count": 2,
   "metadata": {},
   "outputs": [],
   "source": [
    "import pandas as pd\n",
    "import seaborn as sns\n",
    "import numpy as ny\n",
    "import matplotlib.pyplot as plt\n",
    "import datetime"
   ]
  },
  {
   "cell_type": "code",
   "execution_count": 3,
   "metadata": {},
   "outputs": [],
   "source": [
    "df=pd.read_csv('medicalappointments.csv')"
   ]
  },
  {
   "cell_type": "code",
   "execution_count": 4,
   "metadata": {},
   "outputs": [
    {
     "data": {
      "text/html": [
       "<div>\n",
       "<style>\n",
       "    .dataframe thead tr:only-child th {\n",
       "        text-align: right;\n",
       "    }\n",
       "\n",
       "    .dataframe thead th {\n",
       "        text-align: left;\n",
       "    }\n",
       "\n",
       "    .dataframe tbody tr th {\n",
       "        vertical-align: top;\n",
       "    }\n",
       "</style>\n",
       "<table border=\"1\" class=\"dataframe\">\n",
       "  <thead>\n",
       "    <tr style=\"text-align: right;\">\n",
       "      <th></th>\n",
       "      <th>PatientId</th>\n",
       "      <th>AppointmentID</th>\n",
       "      <th>Gender</th>\n",
       "      <th>ScheduledDay</th>\n",
       "      <th>AppointmentDay</th>\n",
       "      <th>Age</th>\n",
       "      <th>Neighbourhood</th>\n",
       "      <th>Scholarship</th>\n",
       "      <th>Hipertension</th>\n",
       "      <th>Diabetes</th>\n",
       "      <th>Alcoholism</th>\n",
       "      <th>Handcap</th>\n",
       "      <th>SMS_received</th>\n",
       "      <th>No-show</th>\n",
       "    </tr>\n",
       "  </thead>\n",
       "  <tbody>\n",
       "    <tr>\n",
       "      <th>0</th>\n",
       "      <td>2.987250e+13</td>\n",
       "      <td>5642903</td>\n",
       "      <td>F</td>\n",
       "      <td>2016-04-29T18:38:08Z</td>\n",
       "      <td>2016-04-29T00:00:00Z</td>\n",
       "      <td>62</td>\n",
       "      <td>JARDIM DA PENHA</td>\n",
       "      <td>0</td>\n",
       "      <td>1</td>\n",
       "      <td>0</td>\n",
       "      <td>0</td>\n",
       "      <td>0</td>\n",
       "      <td>0</td>\n",
       "      <td>No</td>\n",
       "    </tr>\n",
       "    <tr>\n",
       "      <th>1</th>\n",
       "      <td>5.589978e+14</td>\n",
       "      <td>5642503</td>\n",
       "      <td>M</td>\n",
       "      <td>2016-04-29T16:08:27Z</td>\n",
       "      <td>2016-04-29T00:00:00Z</td>\n",
       "      <td>56</td>\n",
       "      <td>JARDIM DA PENHA</td>\n",
       "      <td>0</td>\n",
       "      <td>0</td>\n",
       "      <td>0</td>\n",
       "      <td>0</td>\n",
       "      <td>0</td>\n",
       "      <td>0</td>\n",
       "      <td>No</td>\n",
       "    </tr>\n",
       "    <tr>\n",
       "      <th>2</th>\n",
       "      <td>4.262962e+12</td>\n",
       "      <td>5642549</td>\n",
       "      <td>F</td>\n",
       "      <td>2016-04-29T16:19:04Z</td>\n",
       "      <td>2016-04-29T00:00:00Z</td>\n",
       "      <td>62</td>\n",
       "      <td>MATA DA PRAIA</td>\n",
       "      <td>0</td>\n",
       "      <td>0</td>\n",
       "      <td>0</td>\n",
       "      <td>0</td>\n",
       "      <td>0</td>\n",
       "      <td>0</td>\n",
       "      <td>No</td>\n",
       "    </tr>\n",
       "    <tr>\n",
       "      <th>3</th>\n",
       "      <td>8.679512e+11</td>\n",
       "      <td>5642828</td>\n",
       "      <td>F</td>\n",
       "      <td>2016-04-29T17:29:31Z</td>\n",
       "      <td>2016-04-29T00:00:00Z</td>\n",
       "      <td>8</td>\n",
       "      <td>PONTAL DE CAMBURI</td>\n",
       "      <td>0</td>\n",
       "      <td>0</td>\n",
       "      <td>0</td>\n",
       "      <td>0</td>\n",
       "      <td>0</td>\n",
       "      <td>0</td>\n",
       "      <td>No</td>\n",
       "    </tr>\n",
       "    <tr>\n",
       "      <th>4</th>\n",
       "      <td>8.841186e+12</td>\n",
       "      <td>5642494</td>\n",
       "      <td>F</td>\n",
       "      <td>2016-04-29T16:07:23Z</td>\n",
       "      <td>2016-04-29T00:00:00Z</td>\n",
       "      <td>56</td>\n",
       "      <td>JARDIM DA PENHA</td>\n",
       "      <td>0</td>\n",
       "      <td>1</td>\n",
       "      <td>1</td>\n",
       "      <td>0</td>\n",
       "      <td>0</td>\n",
       "      <td>0</td>\n",
       "      <td>No</td>\n",
       "    </tr>\n",
       "  </tbody>\n",
       "</table>\n",
       "</div>"
      ],
      "text/plain": [
       "      PatientId  AppointmentID Gender          ScheduledDay  \\\n",
       "0  2.987250e+13        5642903      F  2016-04-29T18:38:08Z   \n",
       "1  5.589978e+14        5642503      M  2016-04-29T16:08:27Z   \n",
       "2  4.262962e+12        5642549      F  2016-04-29T16:19:04Z   \n",
       "3  8.679512e+11        5642828      F  2016-04-29T17:29:31Z   \n",
       "4  8.841186e+12        5642494      F  2016-04-29T16:07:23Z   \n",
       "\n",
       "         AppointmentDay  Age      Neighbourhood  Scholarship  Hipertension  \\\n",
       "0  2016-04-29T00:00:00Z   62    JARDIM DA PENHA            0             1   \n",
       "1  2016-04-29T00:00:00Z   56    JARDIM DA PENHA            0             0   \n",
       "2  2016-04-29T00:00:00Z   62      MATA DA PRAIA            0             0   \n",
       "3  2016-04-29T00:00:00Z    8  PONTAL DE CAMBURI            0             0   \n",
       "4  2016-04-29T00:00:00Z   56    JARDIM DA PENHA            0             1   \n",
       "\n",
       "   Diabetes  Alcoholism  Handcap  SMS_received No-show  \n",
       "0         0           0        0             0      No  \n",
       "1         0           0        0             0      No  \n",
       "2         0           0        0             0      No  \n",
       "3         0           0        0             0      No  \n",
       "4         1           0        0             0      No  "
      ]
     },
     "execution_count": 4,
     "metadata": {},
     "output_type": "execute_result"
    }
   ],
   "source": [
    "df.head()"
   ]
  },
  {
   "cell_type": "markdown",
   "metadata": {},
   "source": [
    "#### Determine Data Types"
   ]
  },
  {
   "cell_type": "code",
   "execution_count": 5,
   "metadata": {},
   "outputs": [
    {
     "data": {
      "text/html": [
       "<div>\n",
       "<style>\n",
       "    .dataframe thead tr:only-child th {\n",
       "        text-align: right;\n",
       "    }\n",
       "\n",
       "    .dataframe thead th {\n",
       "        text-align: left;\n",
       "    }\n",
       "\n",
       "    .dataframe tbody tr th {\n",
       "        vertical-align: top;\n",
       "    }\n",
       "</style>\n",
       "<table border=\"1\" class=\"dataframe\">\n",
       "  <thead>\n",
       "    <tr style=\"text-align: right;\">\n",
       "      <th></th>\n",
       "      <th>PatientId</th>\n",
       "      <th>AppointmentID</th>\n",
       "      <th>Age</th>\n",
       "      <th>Scholarship</th>\n",
       "      <th>Hipertension</th>\n",
       "      <th>Diabetes</th>\n",
       "      <th>Alcoholism</th>\n",
       "      <th>Handcap</th>\n",
       "      <th>SMS_received</th>\n",
       "    </tr>\n",
       "  </thead>\n",
       "  <tbody>\n",
       "    <tr>\n",
       "      <th>count</th>\n",
       "      <td>1.105270e+05</td>\n",
       "      <td>1.105270e+05</td>\n",
       "      <td>110527.000000</td>\n",
       "      <td>110527.000000</td>\n",
       "      <td>110527.000000</td>\n",
       "      <td>110527.000000</td>\n",
       "      <td>110527.000000</td>\n",
       "      <td>110527.000000</td>\n",
       "      <td>110527.000000</td>\n",
       "    </tr>\n",
       "    <tr>\n",
       "      <th>mean</th>\n",
       "      <td>1.474963e+14</td>\n",
       "      <td>5.675305e+06</td>\n",
       "      <td>37.088874</td>\n",
       "      <td>0.098266</td>\n",
       "      <td>0.197246</td>\n",
       "      <td>0.071865</td>\n",
       "      <td>0.030400</td>\n",
       "      <td>0.022248</td>\n",
       "      <td>0.321026</td>\n",
       "    </tr>\n",
       "    <tr>\n",
       "      <th>std</th>\n",
       "      <td>2.560949e+14</td>\n",
       "      <td>7.129575e+04</td>\n",
       "      <td>23.110205</td>\n",
       "      <td>0.297675</td>\n",
       "      <td>0.397921</td>\n",
       "      <td>0.258265</td>\n",
       "      <td>0.171686</td>\n",
       "      <td>0.161543</td>\n",
       "      <td>0.466873</td>\n",
       "    </tr>\n",
       "    <tr>\n",
       "      <th>min</th>\n",
       "      <td>3.921784e+04</td>\n",
       "      <td>5.030230e+06</td>\n",
       "      <td>-1.000000</td>\n",
       "      <td>0.000000</td>\n",
       "      <td>0.000000</td>\n",
       "      <td>0.000000</td>\n",
       "      <td>0.000000</td>\n",
       "      <td>0.000000</td>\n",
       "      <td>0.000000</td>\n",
       "    </tr>\n",
       "    <tr>\n",
       "      <th>25%</th>\n",
       "      <td>4.172614e+12</td>\n",
       "      <td>5.640286e+06</td>\n",
       "      <td>18.000000</td>\n",
       "      <td>0.000000</td>\n",
       "      <td>0.000000</td>\n",
       "      <td>0.000000</td>\n",
       "      <td>0.000000</td>\n",
       "      <td>0.000000</td>\n",
       "      <td>0.000000</td>\n",
       "    </tr>\n",
       "    <tr>\n",
       "      <th>50%</th>\n",
       "      <td>3.173184e+13</td>\n",
       "      <td>5.680573e+06</td>\n",
       "      <td>37.000000</td>\n",
       "      <td>0.000000</td>\n",
       "      <td>0.000000</td>\n",
       "      <td>0.000000</td>\n",
       "      <td>0.000000</td>\n",
       "      <td>0.000000</td>\n",
       "      <td>0.000000</td>\n",
       "    </tr>\n",
       "    <tr>\n",
       "      <th>75%</th>\n",
       "      <td>9.439172e+13</td>\n",
       "      <td>5.725524e+06</td>\n",
       "      <td>55.000000</td>\n",
       "      <td>0.000000</td>\n",
       "      <td>0.000000</td>\n",
       "      <td>0.000000</td>\n",
       "      <td>0.000000</td>\n",
       "      <td>0.000000</td>\n",
       "      <td>1.000000</td>\n",
       "    </tr>\n",
       "    <tr>\n",
       "      <th>max</th>\n",
       "      <td>9.999816e+14</td>\n",
       "      <td>5.790484e+06</td>\n",
       "      <td>115.000000</td>\n",
       "      <td>1.000000</td>\n",
       "      <td>1.000000</td>\n",
       "      <td>1.000000</td>\n",
       "      <td>1.000000</td>\n",
       "      <td>4.000000</td>\n",
       "      <td>1.000000</td>\n",
       "    </tr>\n",
       "  </tbody>\n",
       "</table>\n",
       "</div>"
      ],
      "text/plain": [
       "          PatientId  AppointmentID            Age    Scholarship  \\\n",
       "count  1.105270e+05   1.105270e+05  110527.000000  110527.000000   \n",
       "mean   1.474963e+14   5.675305e+06      37.088874       0.098266   \n",
       "std    2.560949e+14   7.129575e+04      23.110205       0.297675   \n",
       "min    3.921784e+04   5.030230e+06      -1.000000       0.000000   \n",
       "25%    4.172614e+12   5.640286e+06      18.000000       0.000000   \n",
       "50%    3.173184e+13   5.680573e+06      37.000000       0.000000   \n",
       "75%    9.439172e+13   5.725524e+06      55.000000       0.000000   \n",
       "max    9.999816e+14   5.790484e+06     115.000000       1.000000   \n",
       "\n",
       "        Hipertension       Diabetes     Alcoholism        Handcap  \\\n",
       "count  110527.000000  110527.000000  110527.000000  110527.000000   \n",
       "mean        0.197246       0.071865       0.030400       0.022248   \n",
       "std         0.397921       0.258265       0.171686       0.161543   \n",
       "min         0.000000       0.000000       0.000000       0.000000   \n",
       "25%         0.000000       0.000000       0.000000       0.000000   \n",
       "50%         0.000000       0.000000       0.000000       0.000000   \n",
       "75%         0.000000       0.000000       0.000000       0.000000   \n",
       "max         1.000000       1.000000       1.000000       4.000000   \n",
       "\n",
       "        SMS_received  \n",
       "count  110527.000000  \n",
       "mean        0.321026  \n",
       "std         0.466873  \n",
       "min         0.000000  \n",
       "25%         0.000000  \n",
       "50%         0.000000  \n",
       "75%         1.000000  \n",
       "max         1.000000  "
      ]
     },
     "execution_count": 5,
     "metadata": {},
     "output_type": "execute_result"
    }
   ],
   "source": [
    "df.describe() #This will help determine numerical types"
   ]
  },
  {
   "cell_type": "markdown",
   "metadata": {},
   "source": [
    "Floating Point [PatientId, AppointmentID,Age, Scholarship, Hipertension, Diabetes, Alcoholism, Handcap, SMS_received]"
   ]
  },
  {
   "cell_type": "markdown",
   "metadata": {},
   "source": [
    "##### Non Numerical Data\n",
    "For the rest of the features i will have to create groups for each one and then get their size to get all possible values they can obtain"
   ]
  },
  {
   "cell_type": "code",
   "execution_count": 6,
   "metadata": {},
   "outputs": [
    {
     "name": "stdout",
     "output_type": "stream",
     "text": [
      "Gender\n",
      "F    71840\n",
      "M    38687\n",
      "dtype: int64\n",
      "ScheduledDay\n",
      "2015-11-10T07:13:56Z    1\n",
      "2015-12-03T08:17:28Z    1\n",
      "2015-12-07T10:40:59Z    1\n",
      "2015-12-07T10:42:42Z    1\n",
      "2015-12-07T10:43:01Z    1\n",
      "2015-12-07T10:43:17Z    1\n",
      "2015-12-07T10:43:34Z    1\n",
      "2015-12-07T10:43:50Z    1\n",
      "2015-12-07T10:44:07Z    1\n",
      "2015-12-07T10:44:25Z    1\n",
      "2015-12-07T10:44:40Z    1\n",
      "2015-12-07T10:45:01Z    1\n",
      "2015-12-08T13:30:21Z    1\n",
      "2015-12-08T13:30:41Z    1\n",
      "2015-12-08T13:31:04Z    1\n",
      "2015-12-08T13:31:21Z    1\n",
      "2015-12-08T13:31:45Z    1\n",
      "2015-12-08T13:32:14Z    1\n",
      "2015-12-08T13:32:34Z    1\n",
      "2015-12-08T13:33:09Z    1\n",
      "2015-12-08T13:33:28Z    1\n",
      "2015-12-08T13:33:50Z    1\n",
      "2015-12-08T13:58:50Z    1\n",
      "2015-12-08T13:59:33Z    1\n",
      "2015-12-08T14:00:52Z    1\n",
      "2015-12-08T14:01:28Z    1\n",
      "2015-12-08T14:02:04Z    1\n",
      "2015-12-08T14:02:31Z    1\n",
      "2015-12-08T14:03:00Z    1\n",
      "2015-12-08T14:03:23Z    1\n",
      "                       ..\n",
      "2016-06-08T17:23:59Z    1\n",
      "2016-06-08T17:24:34Z    1\n",
      "2016-06-08T17:37:08Z    1\n",
      "2016-06-08T17:42:29Z    1\n",
      "2016-06-08T17:45:18Z    1\n",
      "2016-06-08T17:50:25Z    1\n",
      "2016-06-08T18:07:30Z    1\n",
      "2016-06-08T18:09:45Z    1\n",
      "2016-06-08T18:15:52Z    1\n",
      "2016-06-08T18:20:04Z    1\n",
      "2016-06-08T18:20:13Z    1\n",
      "2016-06-08T18:21:20Z    1\n",
      "2016-06-08T18:21:46Z    1\n",
      "2016-06-08T18:24:25Z    1\n",
      "2016-06-08T18:25:45Z    1\n",
      "2016-06-08T18:28:07Z    1\n",
      "2016-06-08T18:28:21Z    1\n",
      "2016-06-08T18:28:35Z    1\n",
      "2016-06-08T18:30:42Z    1\n",
      "2016-06-08T18:34:10Z    1\n",
      "2016-06-08T18:34:11Z    1\n",
      "2016-06-08T18:52:20Z    1\n",
      "2016-06-08T19:02:15Z    1\n",
      "2016-06-08T19:08:20Z    1\n",
      "2016-06-08T19:14:25Z    1\n",
      "2016-06-08T19:32:25Z    1\n",
      "2016-06-08T19:32:56Z    1\n",
      "2016-06-08T19:33:23Z    1\n",
      "2016-06-08T19:58:52Z    1\n",
      "2016-06-08T20:07:23Z    1\n",
      "Length: 103549, dtype: int64\n",
      "AppointmentDay\n",
      "2016-04-29T00:00:00Z    3235\n",
      "2016-05-02T00:00:00Z    4376\n",
      "2016-05-03T00:00:00Z    4256\n",
      "2016-05-04T00:00:00Z    4168\n",
      "2016-05-05T00:00:00Z    4273\n",
      "2016-05-06T00:00:00Z    3879\n",
      "2016-05-09T00:00:00Z    4520\n",
      "2016-05-10T00:00:00Z    4308\n",
      "2016-05-11T00:00:00Z    4474\n",
      "2016-05-12T00:00:00Z    4394\n",
      "2016-05-13T00:00:00Z    3987\n",
      "2016-05-14T00:00:00Z      39\n",
      "2016-05-16T00:00:00Z    4613\n",
      "2016-05-17T00:00:00Z    4372\n",
      "2016-05-18T00:00:00Z    4373\n",
      "2016-05-19T00:00:00Z    4270\n",
      "2016-05-20T00:00:00Z    3828\n",
      "2016-05-24T00:00:00Z    4009\n",
      "2016-05-25T00:00:00Z    3909\n",
      "2016-05-30T00:00:00Z    4514\n",
      "2016-05-31T00:00:00Z    4279\n",
      "2016-06-01T00:00:00Z    4464\n",
      "2016-06-02T00:00:00Z    4310\n",
      "2016-06-03T00:00:00Z    4090\n",
      "2016-06-06T00:00:00Z    4692\n",
      "2016-06-07T00:00:00Z    4416\n",
      "2016-06-08T00:00:00Z    4479\n",
      "dtype: int64\n",
      "Neighbourhood\n",
      "AEROPORTO                 8\n",
      "ANDORINHAS             2262\n",
      "ANTÔNIO HONÓRIO         271\n",
      "ARIOVALDO FAVALESSA     282\n",
      "BARRO VERMELHO          423\n",
      "BELA VISTA             1907\n",
      "BENTO FERREIRA          858\n",
      "BOA VISTA               312\n",
      "BONFIM                 2773\n",
      "CARATOÍRA              2565\n",
      "CENTRO                 3334\n",
      "COMDUSA                 310\n",
      "CONQUISTA               849\n",
      "CONSOLAÇÃO             1376\n",
      "CRUZAMENTO             1398\n",
      "DA PENHA               2217\n",
      "DE LOURDES              305\n",
      "DO CABRAL               560\n",
      "DO MOSCOSO              413\n",
      "DO QUADRO               849\n",
      "ENSEADA DO SUÁ          235\n",
      "ESTRELINHA              538\n",
      "FONTE GRANDE            682\n",
      "FORTE SÃO JOÃO         1889\n",
      "FRADINHOS               258\n",
      "GOIABEIRAS              700\n",
      "GRANDE VITÓRIA         1071\n",
      "GURIGICA               2018\n",
      "HORTO                   175\n",
      "ILHA DAS CAIEIRAS      1071\n",
      "                       ... \n",
      "PARQUE INDUSTRIAL         1\n",
      "PARQUE MOSCOSO          802\n",
      "PIEDADE                 452\n",
      "PONTAL DE CAMBURI        69\n",
      "PRAIA DO CANTO         1035\n",
      "PRAIA DO SUÁ           1288\n",
      "REDENÇÃO               1553\n",
      "REPÚBLICA               835\n",
      "RESISTÊNCIA            4431\n",
      "ROMÃO                  2215\n",
      "SANTA CECÍLIA           448\n",
      "SANTA CLARA             506\n",
      "SANTA HELENA            178\n",
      "SANTA LUÍZA             428\n",
      "SANTA LÚCIA             438\n",
      "SANTA MARTHA           3131\n",
      "SANTA TEREZA           1332\n",
      "SANTO ANDRÉ            2571\n",
      "SANTO ANTÔNIO          2746\n",
      "SANTOS DUMONT          1276\n",
      "SANTOS REIS             547\n",
      "SEGURANÇA DO LAR        145\n",
      "SOLON BORGES            469\n",
      "SÃO BENEDITO           1439\n",
      "SÃO CRISTÓVÃO          1836\n",
      "SÃO JOSÉ               1977\n",
      "SÃO PEDRO              2448\n",
      "TABUAZEIRO             3132\n",
      "UNIVERSITÁRIO           152\n",
      "VILA RUBIM              851\n",
      "Length: 81, dtype: int64\n",
      "No-show\n",
      "No     88208\n",
      "Yes    22319\n",
      "dtype: int64\n"
     ]
    }
   ],
   "source": [
    "groupNames=['Gender','ScheduledDay','AppointmentDay','Neighbourhood','No-show']\n",
    "group=[]\n",
    "for i in range(0,len(groupNames)):\n",
    "    group.append(df.groupby(by=groupNames[i]))\n",
    "    print(group[i].size())"
   ]
  },
  {
   "cell_type": "markdown",
   "metadata": {},
   "source": [
    "## Restructurization for Analysis\n",
    "Thanks to the previous analysis now we know all data types and what needs to be done to transorm it in useful data, so let's do it"
   ]
  },
  {
   "cell_type": "markdown",
   "metadata": {},
   "source": [
    "#### Gender"
   ]
  },
  {
   "cell_type": "code",
   "execution_count": 7,
   "metadata": {},
   "outputs": [],
   "source": [
    "df['Gender']=df['Gender'].replace(to_replace='F',value=0)\n",
    "df['Gender']=df['Gender'].replace(to_replace='M',value=1)"
   ]
  },
  {
   "cell_type": "markdown",
   "metadata": {},
   "source": [
    "#### Dates\n",
    "This part is very complex, in my opinion many features can be extracted from the date as it is in the current format:\n",
    "-Year<br />\n",
    "-Month<br />\n",
    "-Day<br />\n",
    "-Weekday from 0 to 6 where 0 is monday<br />\n",
    "-Time will not be considered since seems to be missing"
   ]
  },
  {
   "cell_type": "code",
   "execution_count": 37,
   "metadata": {
    "collapsed": true
   },
   "outputs": [],
   "source": [
    "Ayear=df['AppointmentDay']\n",
    "Amonth=df['AppointmentDay']\n",
    "Aday=df['AppointmentDay']\n",
    "Aweekday=df['AppointmentDay']\n",
    "Syear=df['ScheduledDay']\n",
    "Smonth=df['ScheduledDay']\n",
    "Sday=df['ScheduledDay']\n",
    "Sweekday=df['ScheduledDay']"
   ]
  },
  {
   "cell_type": "code",
   "execution_count": null,
   "metadata": {
    "collapsed": true
   },
   "outputs": [],
   "source": []
  },
  {
   "cell_type": "code",
   "execution_count": null,
   "metadata": {
    "collapsed": true
   },
   "outputs": [],
   "source": []
  },
  {
   "cell_type": "code",
   "execution_count": 38,
   "metadata": {},
   "outputs": [
    {
     "ename": "ValueError",
     "evalue": "could not convert string to float: ",
     "output_type": "error",
     "traceback": [
      "\u001b[1;31m---------------------------------------------------------------------------\u001b[0m",
      "\u001b[1;31mValueError\u001b[0m                                Traceback (most recent call last)",
      "\u001b[1;32m<ipython-input-38-6d302f2299a7>\u001b[0m in \u001b[0;36m<module>\u001b[1;34m()\u001b[0m\n\u001b[0;32m      3\u001b[0m     \u001b[0mcMonth\u001b[0m\u001b[1;33m=\u001b[0m\u001b[0mAmonth\u001b[0m\u001b[1;33m[\u001b[0m\u001b[0mi\u001b[0m\u001b[1;33m]\u001b[0m\u001b[1;33m[\u001b[0m\u001b[1;36m5\u001b[0m\u001b[1;33m:\u001b[0m\u001b[1;36m7\u001b[0m\u001b[1;33m]\u001b[0m\u001b[1;33m\u001b[0m\u001b[0m\n\u001b[0;32m      4\u001b[0m     \u001b[0mcDay\u001b[0m\u001b[1;33m=\u001b[0m\u001b[0mAday\u001b[0m\u001b[1;33m[\u001b[0m\u001b[0mi\u001b[0m\u001b[1;33m]\u001b[0m\u001b[1;33m[\u001b[0m\u001b[1;36m8\u001b[0m\u001b[1;33m:\u001b[0m\u001b[1;36m10\u001b[0m\u001b[1;33m]\u001b[0m\u001b[1;33m\u001b[0m\u001b[0m\n\u001b[1;32m----> 5\u001b[1;33m     \u001b[0mcY\u001b[0m\u001b[1;33m=\u001b[0m\u001b[0mint\u001b[0m\u001b[1;33m(\u001b[0m\u001b[0mfloat\u001b[0m\u001b[1;33m(\u001b[0m\u001b[0mcYear\u001b[0m\u001b[1;33m)\u001b[0m\u001b[1;33m)\u001b[0m\u001b[1;33m\u001b[0m\u001b[0m\n\u001b[0m\u001b[0;32m      6\u001b[0m     \u001b[0mcM\u001b[0m\u001b[1;33m=\u001b[0m\u001b[0mint\u001b[0m\u001b[1;33m(\u001b[0m\u001b[0mfloat\u001b[0m\u001b[1;33m(\u001b[0m\u001b[0mcMonth\u001b[0m\u001b[1;33m)\u001b[0m\u001b[1;33m)\u001b[0m\u001b[1;33m\u001b[0m\u001b[0m\n\u001b[0;32m      7\u001b[0m     \u001b[0mcD\u001b[0m\u001b[1;33m=\u001b[0m\u001b[0mint\u001b[0m\u001b[1;33m(\u001b[0m\u001b[0mfloat\u001b[0m\u001b[1;33m(\u001b[0m\u001b[0mcDay\u001b[0m\u001b[1;33m)\u001b[0m\u001b[1;33m)\u001b[0m\u001b[1;33m\u001b[0m\u001b[0m\n",
      "\u001b[1;31mValueError\u001b[0m: could not convert string to float: "
     ]
    }
   ],
   "source": [
    "for i in range(1,len(Ayear)):\n",
    "    cYear=Ayear[i][0:4]\n",
    "    cMonth=Amonth[i][5:7]\n",
    "    cDay=Aday[i][8:10]\n",
    "    cY=int(float(cYear))\n",
    "    cM=int(float(cMonth))\n",
    "    cD=int(float(cDay))\n",
    "    Ayear.set_value(label=i,value=cY)\n",
    "    Amonth.set_value(label=i,value=cM)\n",
    "    Aday.set_value(label=i,value=cD)\n",
    "    cDate=datetime.date(year=cY,month=cM,day=cD)\n",
    "    Aweekday.set_value(label=i,value=cDate.weekday())"
   ]
  },
  {
   "cell_type": "code",
   "execution_count": null,
   "metadata": {
    "collapsed": true
   },
   "outputs": [],
   "source": []
  },
  {
   "cell_type": "code",
   "execution_count": null,
   "metadata": {
    "collapsed": true
   },
   "outputs": [],
   "source": []
  },
  {
   "cell_type": "code",
   "execution_count": null,
   "metadata": {
    "collapsed": true
   },
   "outputs": [],
   "source": []
  },
  {
   "cell_type": "code",
   "execution_count": null,
   "metadata": {
    "collapsed": true
   },
   "outputs": [],
   "source": []
  },
  {
   "cell_type": "code",
   "execution_count": null,
   "metadata": {
    "collapsed": true
   },
   "outputs": [],
   "source": []
  },
  {
   "cell_type": "code",
   "execution_count": null,
   "metadata": {
    "collapsed": true
   },
   "outputs": [],
   "source": []
  },
  {
   "cell_type": "code",
   "execution_count": null,
   "metadata": {
    "collapsed": true
   },
   "outputs": [],
   "source": []
  },
  {
   "cell_type": "code",
   "execution_count": null,
   "metadata": {
    "collapsed": true
   },
   "outputs": [],
   "source": []
  },
  {
   "cell_type": "code",
   "execution_count": null,
   "metadata": {
    "collapsed": true
   },
   "outputs": [],
   "source": []
  },
  {
   "cell_type": "code",
   "execution_count": null,
   "metadata": {
    "collapsed": true
   },
   "outputs": [],
   "source": []
  },
  {
   "cell_type": "code",
   "execution_count": 25,
   "metadata": {
    "collapsed": true
   },
   "outputs": [],
   "source": [
    "int?"
   ]
  },
  {
   "cell_type": "code",
   "execution_count": null,
   "metadata": {
    "collapsed": true
   },
   "outputs": [],
   "source": []
  },
  {
   "cell_type": "code",
   "execution_count": null,
   "metadata": {
    "collapsed": true
   },
   "outputs": [],
   "source": []
  },
  {
   "cell_type": "code",
   "execution_count": null,
   "metadata": {
    "collapsed": true
   },
   "outputs": [],
   "source": []
  },
  {
   "cell_type": "code",
   "execution_count": null,
   "metadata": {
    "collapsed": true
   },
   "outputs": [],
   "source": []
  },
  {
   "cell_type": "code",
   "execution_count": null,
   "metadata": {
    "collapsed": true
   },
   "outputs": [],
   "source": []
  },
  {
   "cell_type": "code",
   "execution_count": null,
   "metadata": {
    "collapsed": true
   },
   "outputs": [],
   "source": []
  },
  {
   "cell_type": "code",
   "execution_count": null,
   "metadata": {
    "collapsed": true
   },
   "outputs": [],
   "source": []
  },
  {
   "cell_type": "code",
   "execution_count": null,
   "metadata": {
    "collapsed": true
   },
   "outputs": [],
   "source": []
  },
  {
   "cell_type": "code",
   "execution_count": 15,
   "metadata": {},
   "outputs": [
    {
     "name": "stdout",
     "output_type": "stream",
     "text": [
      "4\n"
     ]
    }
   ],
   "source": [
    "today=datetime.date(year=2017,month=12,day=1)\n",
    "print(today.weekday())"
   ]
  },
  {
   "cell_type": "code",
   "execution_count": null,
   "metadata": {
    "collapsed": true
   },
   "outputs": [],
   "source": []
  },
  {
   "cell_type": "code",
   "execution_count": null,
   "metadata": {
    "collapsed": true
   },
   "outputs": [],
   "source": []
  },
  {
   "cell_type": "code",
   "execution_count": null,
   "metadata": {
    "collapsed": true
   },
   "outputs": [],
   "source": []
  },
  {
   "cell_type": "code",
   "execution_count": null,
   "metadata": {
    "collapsed": true
   },
   "outputs": [],
   "source": []
  },
  {
   "cell_type": "code",
   "execution_count": null,
   "metadata": {
    "collapsed": true
   },
   "outputs": [],
   "source": []
  },
  {
   "cell_type": "code",
   "execution_count": null,
   "metadata": {
    "collapsed": true
   },
   "outputs": [],
   "source": []
  },
  {
   "cell_type": "code",
   "execution_count": null,
   "metadata": {
    "collapsed": true
   },
   "outputs": [],
   "source": []
  },
  {
   "cell_type": "code",
   "execution_count": null,
   "metadata": {
    "collapsed": true
   },
   "outputs": [],
   "source": []
  },
  {
   "cell_type": "code",
   "execution_count": null,
   "metadata": {
    "collapsed": true
   },
   "outputs": [],
   "source": []
  },
  {
   "cell_type": "code",
   "execution_count": null,
   "metadata": {
    "collapsed": true
   },
   "outputs": [],
   "source": []
  }
 ],
 "metadata": {
  "kernelspec": {
   "display_name": "Python 3",
   "language": "python",
   "name": "python3"
  },
  "language_info": {
   "codemirror_mode": {
    "name": "ipython",
    "version": 3
   },
   "file_extension": ".py",
   "mimetype": "text/x-python",
   "name": "python",
   "nbconvert_exporter": "python",
   "pygments_lexer": "ipython3",
   "version": "3.6.3"
  }
 },
 "nbformat": 4,
 "nbformat_minor": 2
}
